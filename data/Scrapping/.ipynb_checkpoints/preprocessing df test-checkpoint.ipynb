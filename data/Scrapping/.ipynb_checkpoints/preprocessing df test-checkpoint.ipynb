{
 "cells": [
  {
   "cell_type": "code",
   "execution_count": 1,
   "metadata": {},
   "outputs": [],
   "source": [
    "import pandas as pd\n",
    "import numpy as np"
   ]
  },
  {
   "cell_type": "code",
   "execution_count": 2,
   "metadata": {},
   "outputs": [],
   "source": [
    "# fonctions \n",
    "def Correction_date(liste):\n",
    "    ''' \n",
    "    Fonction permettant de corriger les dates de publications \n",
    "    example : il y a 2 jours en 05/10/2019 si now = 07/10/2019  \n",
    "    input = liste\n",
    "    output = liste\n",
    "        \n",
    "    '''\n",
    "    liste_corr = []\n",
    "    for i in liste:\n",
    "        try:\n",
    "            \n",
    "            jours = 0\n",
    "            mois = 0\n",
    "            annees = 0 \n",
    "            if 'jour' in i:\n",
    "                jours = int(re.findall('\\d+',i)[0])\n",
    "                d = datetime.today() + relativedelta(days=-jours)\n",
    "                d =d.strftime(\"%d/%m/%Y\")\n",
    "            elif 'mois' in i :\n",
    "                mois =  int(re.findall('\\d+',i)[0])\n",
    "                d = datetime.today() + relativedelta(months=-mois)\n",
    "                d =d.strftime(\"%d/%m/%Y\")\n",
    "            else:\n",
    "                d = 'vide'\n",
    "            liste_corr.append(d)\n",
    "        except:\n",
    "            liste_corr.append('vide')\n",
    "    return liste_corr\n",
    "\n",
    "def Recuperation_date_description(liste1,liste2):\n",
    "    '''\n",
    "    Fonction permettant de recuperer les strings entre deux mots pour chaque ele de la liste 2:\"description ici\"\n",
    "    et remplir les ele = 'vide' de la liste 1: \"date_publication ici\" via une liste corrigé\n",
    "    \n",
    "    '''\n",
    "    liste_corr = []\n",
    "    for i,j in zip(liste1,liste2):\n",
    "        if (i == \"vide\") and (j.find('jours') > 0 ):\n",
    "            \n",
    "            deb = j.find('il y a ')\n",
    "            fin = j.find('jours')\n",
    "            temp = j[deb:fin+5]\n",
    "            liste_corr.append(temp)\n",
    "            \n",
    "        elif (i == \"vide\") and (j.find('mois') > 0 ):\n",
    "            \n",
    "            deb = i.find('il y a ')\n",
    "            fin = i.find('mois')\n",
    "            temp = j[deb:fin+5]\n",
    "            liste_corr.append(temp)\n",
    "            \n",
    "        elif (i == \"vide\") and ((j.find('mois') < 0) or (j.find('jours') < 0 )):\n",
    "                                \n",
    "            liste_corr.append(i)\n",
    "\n",
    "        else:\n",
    "            liste_corr.append(i)\n",
    "\n",
    "    return liste_corr    \n",
    "    "
   ]
  },
  {
   "cell_type": "code",
   "execution_count": null,
   "metadata": {},
   "outputs": [],
   "source": [
    "analyst_paris = \n",
    "scientist_paris = \n",
    "architect_paris = \n",
    "engineer_paris = \n",
    "big_data_paris = \n",
    "autres_metiers_data_paris = \n",
    "developpeur_paris = \n"
   ]
  }
 ],
 "metadata": {
  "kernelspec": {
   "display_name": "Python 3",
   "language": "python",
   "name": "python3"
  },
  "language_info": {
   "codemirror_mode": {
    "name": "ipython",
    "version": 3
   },
   "file_extension": ".py",
   "mimetype": "text/x-python",
   "name": "python",
   "nbconvert_exporter": "python",
   "pygments_lexer": "ipython3",
   "version": "3.7.1"
  }
 },
 "nbformat": 4,
 "nbformat_minor": 2
}
