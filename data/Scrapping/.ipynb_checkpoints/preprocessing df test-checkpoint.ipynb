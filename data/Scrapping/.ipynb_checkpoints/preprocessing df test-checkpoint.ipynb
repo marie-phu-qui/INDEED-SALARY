{
 "cells": [
  {
   "cell_type": "code",
   "execution_count": 1,
   "metadata": {},
   "outputs": [],
   "source": [
    "import pandas as pd\n",
    "import numpy as np"
   ]
  },
  {
   "cell_type": "code",
   "execution_count": 2,
   "metadata": {},
   "outputs": [],
   "source": [
    "# fonctions \n",
    "def Correction_date(liste):\n",
    "    ''' \n",
    "    Fonction permettant de corriger les dates de publications \n",
    "    example : il y a 2 jours en 05/10/2019 si now = 07/10/2019  \n",
    "    input = liste\n",
    "    output = liste\n",
    "        \n",
    "    '''\n",
    "    liste_corr = []\n",
    "    for i in liste:\n",
    "        try:\n",
    "            \n",
    "            jours = 0\n",
    "            mois = 0\n",
    "            annees = 0 \n",
    "            if 'jour' in i:\n",
    "                jours = int(re.findall('\\d+',i)[0])\n",
    "                d = datetime.today() + relativedelta(days=-jours)\n",
    "                d =d.strftime(\"%d/%m/%Y\")\n",
    "            elif 'mois' in i :\n",
    "                mois =  int(re.findall('\\d+',i)[0])\n",
    "                d = datetime.today() + relativedelta(months=-mois)\n",
    "                d =d.strftime(\"%d/%m/%Y\")\n",
    "            else:\n",
    "                d = 'vide'\n",
    "            liste_corr.append(d)\n",
    "        except:\n",
    "            liste_corr.append('vide')\n",
    "    return liste_corr\n",
    "\n",
    "def Recuperation_date_description(liste1,liste2):\n",
    "    '''\n",
    "    Fonction permettant de recuperer les strings entre deux mots pour chaque ele de la liste 2:\"description ici\"\n",
    "    et remplir les ele = 'vide' de la liste 1: \"date_publication ici\" via une liste corrigé\n",
    "    \n",
    "    '''\n",
    "    liste_corr = []\n",
    "    for i,j in zip(liste1,liste2):\n",
    "        if (i == \"vide\") and (j.find('jours') > 0 ):\n",
    "            \n",
    "            deb = j.find('il y a ')\n",
    "            fin = j.find('jours')\n",
    "            temp = j[deb:fin+5]\n",
    "            liste_corr.append(temp)\n",
    "            \n",
    "        elif (i == \"vide\") and (j.find('mois') > 0 ):\n",
    "            \n",
    "            deb = i.find('il y a ')\n",
    "            fin = i.find('mois')\n",
    "            temp = j[deb:fin+5]\n",
    "            liste_corr.append(temp)\n",
    "            \n",
    "        elif (i == \"vide\") and ((j.find('mois') < 0) or (j.find('jours') < 0 )):\n",
    "                                \n",
    "            liste_corr.append(i)\n",
    "\n",
    "        else:\n",
    "            liste_corr.append(i)\n",
    "\n",
    "    return liste_corr    \n",
    "\n"
   ]
  },
  {
   "cell_type": "code",
   "execution_count": 9,
   "metadata": {},
   "outputs": [],
   "source": [
    "analyst_paris = pd.read_csv('Data_analyst_Paris_06102019.csv')\n",
    "scientist_paris = pd.read_csv('Data_scientist_Paris_05102019.csv')\n",
    "architect_paris = pd.read_csv('Data_architect_Paris_06102019.csv')\n",
    "engineer_paris = pd.read_csv('Data_engineer_Paris_06102019.csv')\n",
    "big_data_paris = pd.read_csv('big_data_Paris_06102019.csv')\n",
    "autres_metiers_data_paris = pd.read_csv('autres_metiers_data_paris_06102019.csv')\n",
    "developpeur_paris = pd.read_csv('developpeur_Paris_06102019.csv')"
   ]
  },
  {
   "cell_type": "code",
   "execution_count": null,
   "metadata": {},
   "outputs": [],
   "source": [
    "dictionnaire = {\"Titre\":Titre,\"Nom_Entreprise\":Nom_Entreprise,\"Adresse\":Adresse,\n",
    "                \"Salaire\":Salaire,\"Descriptif_du_poste\":Descriptif_du_poste,\n",
    "                \"Date_de_publication\":Date_de_publication,\"métier_sc\": metier,\n",
    "                \"loc_sc\":loc,\"Date_sc\": now.strftime(\"%d/%m/%Y\") ,\n",
    "                #\"heure_sc\": now.strftime(\"%H:%M:%S\"),\n",
    "                \"Identifiant\": Identifiant}\n",
    "metiers = {\n",
    "           'Data_scientist': 'title:(\"data scientist\" or \"data science\" or \"machine learning\" or \"deep learning\")',\n",
    "           'Data_analyst'  : 'title:(\"data analyst\" or \"data analyste\" or \"data analysis\" or \"data analytics\")',\n",
    "           'Data_architect': 'title:(\"data architecte\" or \"data architect\")',\n",
    "           'Data_engineer' : 'title:(\"data engineer\" )',\n",
    "           'Big_data'      : 'title:(\"big data\")',\n",
    "           'Autres_metiers_data' : 'title:data -scientist -analyst -engineer -\"big data\" -architecte',\n",
    "           'développeur':     'title:développeur -data'\n",
    "           'BI'          :     'title:(développeur or developer) -data -business -affaire -toiles -bi'\n",
    "           \n",
    "           }\n",
    "Localisations = [\"Paris\",\"Lyon\", \"Toulouse\", \"Nantes\",\"Bordeaux\"]"
   ]
  },
  {
   "cell_type": "code",
   "execution_count": 20,
   "metadata": {},
   "outputs": [],
   "source": [
    "analyst_paris['métier_sc'] = 'Data_analyst'\n",
    "scientist_paris['métier_sc'] = 'Data_scientist'\n",
    "architect_paris['métier_sc'] = 'Data_architect'\n",
    "engineer_paris['métier_sc'] = 'Data_engineer'\n",
    "big_data_paris['métier_sc'] = 'Big_data'\n",
    "autres_metiers_data_paris['métier_sc'] = 'Autres_metiers_data'\n",
    "developpeur_paris['métier_sc'] = 'développeur'"
   ]
  },
  {
   "cell_type": "code",
   "execution_count": 21,
   "metadata": {},
   "outputs": [],
   "source": [
    "analyst_paris  ['loc_sc'] = \"Paris\"\n",
    "scientist_paris['loc_sc'] = \"Paris\"\n",
    "architect_paris['loc_sc'] = \"Paris\"\n",
    "engineer_paris ['loc_sc'] = \"Paris\"\n",
    "big_data_paris ['loc_sc'] = \"Paris\"\n",
    "developpeur_paris['loc_sc'] = \"Paris\"\n",
    "autres_metiers_data_paris['loc_sc'] = \"Paris\""
   ]
  },
  {
   "cell_type": "code",
   "execution_count": 22,
   "metadata": {},
   "outputs": [],
   "source": [
    "df_paris = pd.concat([analyst_paris,scientist_paris,\n",
    "                     architect_paris,engineer_paris,\n",
    "                     big_data_paris,\n",
    "                     autres_metiers_data_paris,\n",
    "                     developpeur_paris],axis=0)"
   ]
  },
  {
   "cell_type": "code",
   "execution_count": 23,
   "metadata": {},
   "outputs": [
    {
     "data": {
      "text/plain": [
       "(5667, 10)"
      ]
     },
     "execution_count": 23,
     "metadata": {},
     "output_type": "execute_result"
    }
   ],
   "source": [
    "df_paris.shape"
   ]
  },
  {
   "cell_type": "markdown",
   "metadata": {},
   "source": [
    "<h2> salaire </h2>"
   ]
  },
  {
   "cell_type": "code",
   "execution_count": 31,
   "metadata": {},
   "outputs": [],
   "source": [
    "df = df_paris"
   ]
  },
  {
   "cell_type": "code",
   "execution_count": 35,
   "metadata": {},
   "outputs": [],
   "source": [
    "temp = df[['Salaire','Descriptif_du_poste']] # df temp salaire et descriptif pour visualisation"
   ]
  },
  {
   "cell_type": "code",
   "execution_count": 50,
   "metadata": {},
   "outputs": [
    {
     "data": {
      "text/plain": [
       "Salaire                4592\n",
       "Descriptif_du_poste    4592\n",
       "dtype: int64"
      ]
     },
     "execution_count": 50,
     "metadata": {},
     "output_type": "execute_result"
    }
   ],
   "source": [
    "temp[temp['Salaire'] == 'vide'].count()"
   ]
  },
  {
   "cell_type": "code",
   "execution_count": 51,
   "metadata": {},
   "outputs": [
    {
     "data": {
      "text/plain": [
       "Salaire                1068\n",
       "Descriptif_du_poste    1075\n",
       "dtype: int64"
      ]
     },
     "execution_count": 51,
     "metadata": {},
     "output_type": "execute_result"
    }
   ],
   "source": [
    "temp[temp['Salaire'] != 'vide'].count()"
   ]
  },
  {
   "cell_type": "code",
   "execution_count": 79,
   "metadata": {},
   "outputs": [
    {
     "data": {
      "text/html": [
       "<div>\n",
       "<style scoped>\n",
       "    .dataframe tbody tr th:only-of-type {\n",
       "        vertical-align: middle;\n",
       "    }\n",
       "\n",
       "    .dataframe tbody tr th {\n",
       "        vertical-align: top;\n",
       "    }\n",
       "\n",
       "    .dataframe thead th {\n",
       "        text-align: right;\n",
       "    }\n",
       "</style>\n",
       "<table border=\"1\" class=\"dataframe\">\n",
       "  <thead>\n",
       "    <tr style=\"text-align: right;\">\n",
       "      <th></th>\n",
       "      <th>column</th>\n",
       "      <th>vide</th>\n",
       "      <th>non_vide</th>\n",
       "    </tr>\n",
       "  </thead>\n",
       "  <tbody>\n",
       "    <tr>\n",
       "      <th>0</th>\n",
       "      <td>Salaire</td>\n",
       "      <td>4592</td>\n",
       "      <td>1068</td>\n",
       "    </tr>\n",
       "  </tbody>\n",
       "</table>\n",
       "</div>"
      ],
      "text/plain": [
       "    column  vide  non_vide\n",
       "0  Salaire  4592      1068"
      ]
     },
     "execution_count": 79,
     "metadata": {},
     "output_type": "execute_result"
    }
   ],
   "source": [
    "vide = df['Salaire'] == 'vide'\n",
    "non_vide = df['Salaire'] != 'vide'\n",
    "nb_vide = df['Salaire'][vide].count()\n",
    "nb_non_vide = df['Salaire'][non_vide].count()\n",
    "result = pd.DataFrame({\"column\":'Salaire',\n",
    "              \"vide\": [nb_vide],\n",
    "              \"non_vide\": [nb_non_vide]})\n",
    "result"
   ]
  },
  {
   "cell_type": "code",
   "execution_count": 86,
   "metadata": {},
   "outputs": [],
   "source": [
    "def calcul_vide(column):\n",
    "    \n",
    "    vide = df[column] == 'vide'\n",
    "    non_vide = df[column] != 'vide'\n",
    "    nb_vide = df[column][vide].count()\n",
    "    nb_non_vide = df[column][non_vide].count()\n",
    "    result = pd.DataFrame({\"column\":column,\n",
    "              \"vide\": [nb_vide],\n",
    "              \"non_vide\": [nb_non_vide]})\n",
    "    \n",
    "    return result    "
   ]
  },
  {
   "cell_type": "code",
   "execution_count": 87,
   "metadata": {},
   "outputs": [
    {
     "data": {
      "text/html": [
       "<div>\n",
       "<style scoped>\n",
       "    .dataframe tbody tr th:only-of-type {\n",
       "        vertical-align: middle;\n",
       "    }\n",
       "\n",
       "    .dataframe tbody tr th {\n",
       "        vertical-align: top;\n",
       "    }\n",
       "\n",
       "    .dataframe thead th {\n",
       "        text-align: right;\n",
       "    }\n",
       "</style>\n",
       "<table border=\"1\" class=\"dataframe\">\n",
       "  <thead>\n",
       "    <tr style=\"text-align: right;\">\n",
       "      <th></th>\n",
       "      <th>column</th>\n",
       "      <th>vide</th>\n",
       "      <th>non_vide</th>\n",
       "    </tr>\n",
       "  </thead>\n",
       "  <tbody>\n",
       "    <tr>\n",
       "      <th>0</th>\n",
       "      <td>Salaire</td>\n",
       "      <td>4592</td>\n",
       "      <td>1068</td>\n",
       "    </tr>\n",
       "  </tbody>\n",
       "</table>\n",
       "</div>"
      ],
      "text/plain": [
       "    column  vide  non_vide\n",
       "0  Salaire  4592      1068"
      ]
     },
     "execution_count": 87,
     "metadata": {},
     "output_type": "execute_result"
    }
   ],
   "source": [
    "calcul_vide('Salaire')"
   ]
  },
  {
   "cell_type": "code",
   "execution_count": null,
   "metadata": {},
   "outputs": [],
   "source": []
  }
 ],
 "metadata": {
  "kernelspec": {
   "display_name": "Python 3",
   "language": "python",
   "name": "python3"
  },
  "language_info": {
   "codemirror_mode": {
    "name": "ipython",
    "version": 3
   },
   "file_extension": ".py",
   "mimetype": "text/x-python",
   "name": "python",
   "nbconvert_exporter": "python",
   "pygments_lexer": "ipython3",
   "version": "3.7.1"
  }
 },
 "nbformat": 4,
 "nbformat_minor": 2
}
